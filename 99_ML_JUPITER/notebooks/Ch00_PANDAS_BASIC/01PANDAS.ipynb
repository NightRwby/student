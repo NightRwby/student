{
 "cells": [
  {
   "cell_type": "code",
   "execution_count": 2,
   "id": "c37e7012-c690-4451-92e6-24fdeb746db8",
   "metadata": {},
   "outputs": [],
   "source": [
    "import pandas as pd\n",
    "menu = pd.Series(['비빔밥', '김치찌개', '된장찌개'])\n",
    "price = pd.Series([10000, 9000, 8000])\n",
    "# 변수명을 그냥 적어도 출력됨 단, 하단의 1개만 출력\n",
    "# menu\n",
    "# price\n",
    "\n",
    "# 동시출력\n",
    "# display(menu,price)\n",
    "\n",
    "# 각각출력\n",
    "# print(menu)\n",
    "# print(price)\n"
   ]
  },
  {
   "cell_type": "code",
   "execution_count": 11,
   "id": "e389da32-dd57-4550-94ba-85192eb4c2d9",
   "metadata": {},
   "outputs": [
    {
     "data": {
      "text/html": [
       "<div>\n",
       "<style scoped>\n",
       "    .dataframe tbody tr th:only-of-type {\n",
       "        vertical-align: middle;\n",
       "    }\n",
       "\n",
       "    .dataframe tbody tr th {\n",
       "        vertical-align: top;\n",
       "    }\n",
       "\n",
       "    .dataframe thead th {\n",
       "        text-align: right;\n",
       "    }\n",
       "</style>\n",
       "<table border=\"1\" class=\"dataframe\">\n",
       "  <thead>\n",
       "    <tr style=\"text-align: right;\">\n",
       "      <th></th>\n",
       "      <th>메뉴</th>\n",
       "      <th>가격</th>\n",
       "    </tr>\n",
       "  </thead>\n",
       "  <tbody>\n",
       "    <tr>\n",
       "      <th>0</th>\n",
       "      <td>비빔밥</td>\n",
       "      <td>10000</td>\n",
       "    </tr>\n",
       "    <tr>\n",
       "      <th>1</th>\n",
       "      <td>김치찌개</td>\n",
       "      <td>9000</td>\n",
       "    </tr>\n",
       "    <tr>\n",
       "      <th>2</th>\n",
       "      <td>된장찌개</td>\n",
       "      <td>8000</td>\n",
       "    </tr>\n",
       "  </tbody>\n",
       "</table>\n",
       "</div>"
      ],
      "text/plain": [
       "     메뉴     가격\n",
       "0   비빔밥  10000\n",
       "1  김치찌개   9000\n",
       "2  된장찌개   8000"
      ]
     },
     "execution_count": 11,
     "metadata": {},
     "output_type": "execute_result"
    }
   ],
   "source": [
    "df_from_series = pd.DataFrame({\n",
    "    '메뉴': menu,\n",
    "    '가격': price\n",
    "})\n",
    "df_from_series"
   ]
  },
  {
   "cell_type": "code",
   "execution_count": 3,
   "id": "39076f16-d6bf-4a0b-8441-9c62695b5478",
   "metadata": {},
   "outputs": [
    {
     "data": {
      "text/html": [
       "<div>\n",
       "<style scoped>\n",
       "    .dataframe tbody tr th:only-of-type {\n",
       "        vertical-align: middle;\n",
       "    }\n",
       "\n",
       "    .dataframe tbody tr th {\n",
       "        vertical-align: top;\n",
       "    }\n",
       "\n",
       "    .dataframe thead th {\n",
       "        text-align: right;\n",
       "    }\n",
       "</style>\n",
       "<table border=\"1\" class=\"dataframe\">\n",
       "  <thead>\n",
       "    <tr style=\"text-align: right;\">\n",
       "      <th></th>\n",
       "      <th>메뉴</th>\n",
       "      <th>가격</th>\n",
       "      <th>원산지</th>\n",
       "    </tr>\n",
       "  </thead>\n",
       "  <tbody>\n",
       "    <tr>\n",
       "      <th>0</th>\n",
       "      <td>비빔밥</td>\n",
       "      <td>10000</td>\n",
       "      <td>국내산</td>\n",
       "    </tr>\n",
       "    <tr>\n",
       "      <th>1</th>\n",
       "      <td>김치찌개</td>\n",
       "      <td>9000</td>\n",
       "      <td>국내산</td>\n",
       "    </tr>\n",
       "    <tr>\n",
       "      <th>2</th>\n",
       "      <td>된장찌개</td>\n",
       "      <td>8000</td>\n",
       "      <td>국내산</td>\n",
       "    </tr>\n",
       "  </tbody>\n",
       "</table>\n",
       "</div>"
      ],
      "text/plain": [
       "     메뉴     가격  원산지\n",
       "0   비빔밥  10000  국내산\n",
       "1  김치찌개   9000  국내산\n",
       "2  된장찌개   8000  국내산"
      ]
     },
     "execution_count": 3,
     "metadata": {},
     "output_type": "execute_result"
    }
   ],
   "source": [
    "df = pd.DataFrame({\n",
    "    '메뉴': ['비빔밥', '김치찌개', '된장찌개'],\n",
    "    '가격': [10000, 9000, 8000],\n",
    "    '원산지': ['국내산', '국내산', '국내산']\n",
    "})\n",
    "df"
   ]
  },
  {
   "cell_type": "code",
   "execution_count": 5,
   "id": "1aa738f3-d543-4a1c-992f-71101789052d",
   "metadata": {},
   "outputs": [
    {
     "data": {
      "text/plain": [
       "0     비빔밥\n",
       "1    김치찌개\n",
       "2    된장찌개\n",
       "Name: 메뉴, dtype: object"
      ]
     },
     "execution_count": 5,
     "metadata": {},
     "output_type": "execute_result"
    }
   ],
   "source": [
    "menu_series = df['메뉴']     # 타입: pandas.Series\n",
    "menu_series\n",
    "# type(menu_series)"
   ]
  },
  {
   "cell_type": "code",
   "execution_count": 6,
   "id": "f18e3f68-3968-4bd2-ab05-17455c281ee4",
   "metadata": {},
   "outputs": [
    {
     "data": {
      "text/html": [
       "<div>\n",
       "<style scoped>\n",
       "    .dataframe tbody tr th:only-of-type {\n",
       "        vertical-align: middle;\n",
       "    }\n",
       "\n",
       "    .dataframe tbody tr th {\n",
       "        vertical-align: top;\n",
       "    }\n",
       "\n",
       "    .dataframe thead th {\n",
       "        text-align: right;\n",
       "    }\n",
       "</style>\n",
       "<table border=\"1\" class=\"dataframe\">\n",
       "  <thead>\n",
       "    <tr style=\"text-align: right;\">\n",
       "      <th></th>\n",
       "      <th>메뉴</th>\n",
       "    </tr>\n",
       "  </thead>\n",
       "  <tbody>\n",
       "    <tr>\n",
       "      <th>0</th>\n",
       "      <td>비빔밥</td>\n",
       "    </tr>\n",
       "    <tr>\n",
       "      <th>1</th>\n",
       "      <td>김치찌개</td>\n",
       "    </tr>\n",
       "    <tr>\n",
       "      <th>2</th>\n",
       "      <td>된장찌개</td>\n",
       "    </tr>\n",
       "  </tbody>\n",
       "</table>\n",
       "</div>"
      ],
      "text/plain": [
       "     메뉴\n",
       "0   비빔밥\n",
       "1  김치찌개\n",
       "2  된장찌개"
      ]
     },
     "execution_count": 6,
     "metadata": {},
     "output_type": "execute_result"
    }
   ],
   "source": [
    "menu_df = df[['메뉴']]       # 타입: pandas.DataFrame\n",
    "menu_df\n",
    "# type(menu_df)"
   ]
  },
  {
   "cell_type": "code",
   "execution_count": 7,
   "id": "0319f0a3-34bb-4d0f-857a-7de44a718bb8",
   "metadata": {},
   "outputs": [
    {
     "data": {
      "text/html": [
       "<div>\n",
       "<style scoped>\n",
       "    .dataframe tbody tr th:only-of-type {\n",
       "        vertical-align: middle;\n",
       "    }\n",
       "\n",
       "    .dataframe tbody tr th {\n",
       "        vertical-align: top;\n",
       "    }\n",
       "\n",
       "    .dataframe thead th {\n",
       "        text-align: right;\n",
       "    }\n",
       "</style>\n",
       "<table border=\"1\" class=\"dataframe\">\n",
       "  <thead>\n",
       "    <tr style=\"text-align: right;\">\n",
       "      <th></th>\n",
       "      <th>메뉴</th>\n",
       "      <th>가격</th>\n",
       "    </tr>\n",
       "  </thead>\n",
       "  <tbody>\n",
       "    <tr>\n",
       "      <th>0</th>\n",
       "      <td>비빔밥</td>\n",
       "      <td>10000</td>\n",
       "    </tr>\n",
       "    <tr>\n",
       "      <th>1</th>\n",
       "      <td>김치찌개</td>\n",
       "      <td>9000</td>\n",
       "    </tr>\n",
       "    <tr>\n",
       "      <th>2</th>\n",
       "      <td>된장찌개</td>\n",
       "      <td>8000</td>\n",
       "    </tr>\n",
       "  </tbody>\n",
       "</table>\n",
       "</div>"
      ],
      "text/plain": [
       "     메뉴     가격\n",
       "0   비빔밥  10000\n",
       "1  김치찌개   9000\n",
       "2  된장찌개   8000"
      ]
     },
     "execution_count": 7,
     "metadata": {},
     "output_type": "execute_result"
    }
   ],
   "source": [
    "menu_price_df = df[['메뉴', '가격']]\n",
    "menu_price_df"
   ]
  },
  {
   "cell_type": "code",
   "execution_count": 8,
   "id": "cbbd6e31-6337-4b10-89a6-1fb8fa66ad3e",
   "metadata": {},
   "outputs": [
    {
     "data": {
      "text/html": [
       "<div>\n",
       "<style scoped>\n",
       "    .dataframe tbody tr th:only-of-type {\n",
       "        vertical-align: middle;\n",
       "    }\n",
       "\n",
       "    .dataframe tbody tr th {\n",
       "        vertical-align: top;\n",
       "    }\n",
       "\n",
       "    .dataframe thead th {\n",
       "        text-align: right;\n",
       "    }\n",
       "</style>\n",
       "<table border=\"1\" class=\"dataframe\">\n",
       "  <thead>\n",
       "    <tr style=\"text-align: right;\">\n",
       "      <th></th>\n",
       "      <th>메뉴</th>\n",
       "      <th>가격</th>\n",
       "    </tr>\n",
       "  </thead>\n",
       "  <tbody>\n",
       "    <tr>\n",
       "      <th>0</th>\n",
       "      <td>비빔밥</td>\n",
       "      <td>10000</td>\n",
       "    </tr>\n",
       "    <tr>\n",
       "      <th>1</th>\n",
       "      <td>김치찌개</td>\n",
       "      <td>9000</td>\n",
       "    </tr>\n",
       "    <tr>\n",
       "      <th>2</th>\n",
       "      <td>된장찌개</td>\n",
       "      <td>8000</td>\n",
       "    </tr>\n",
       "  </tbody>\n",
       "</table>\n",
       "</div>"
      ],
      "text/plain": [
       "     메뉴     가격\n",
       "0   비빔밥  10000\n",
       "1  김치찌개   9000\n",
       "2  된장찌개   8000"
      ]
     },
     "execution_count": 8,
     "metadata": {},
     "output_type": "execute_result"
    }
   ],
   "source": [
    "cols = ['메뉴', '가격']\n",
    "menu_price_df2 = df[cols]\n",
    "menu_price_df2"
   ]
  },
  {
   "cell_type": "code",
   "execution_count": 9,
   "id": "fabeff4f-fe29-4692-88fc-09c25738c71a",
   "metadata": {},
   "outputs": [
    {
     "name": "stdout",
     "output_type": "stream",
     "text": [
      "df          :  <class 'pandas.core.frame.DataFrame'>\n",
      "df['가격']   :  <class 'pandas.core.series.Series'>\n",
      "df[['가격']] :  <class 'pandas.core.frame.DataFrame'>\n"
     ]
    }
   ],
   "source": [
    "print('df          : ', type(df))\n",
    "print(\"df['가격']   : \", type(df['가격']))     # Series\n",
    "print(\"df[['가격']] : \", type(df[['가격']]))   # DataFrame"
   ]
  },
  {
   "cell_type": "code",
   "execution_count": 57,
   "id": "98ea6960-4c39-432b-9cce-4cbd9fa4cfa0",
   "metadata": {},
   "outputs": [
    {
     "data": {
      "text/html": [
       "<div>\n",
       "<style scoped>\n",
       "    .dataframe tbody tr th:only-of-type {\n",
       "        vertical-align: middle;\n",
       "    }\n",
       "\n",
       "    .dataframe tbody tr th {\n",
       "        vertical-align: top;\n",
       "    }\n",
       "\n",
       "    .dataframe thead th {\n",
       "        text-align: right;\n",
       "    }\n",
       "</style>\n",
       "<table border=\"1\" class=\"dataframe\">\n",
       "  <thead>\n",
       "    <tr style=\"text-align: right;\">\n",
       "      <th></th>\n",
       "      <th>메뉴</th>\n",
       "      <th>가격</th>\n",
       "      <th>원산지</th>\n",
       "    </tr>\n",
       "  </thead>\n",
       "  <tbody>\n",
       "    <tr>\n",
       "      <th>0</th>\n",
       "      <td>비빔밥</td>\n",
       "      <td>10000</td>\n",
       "      <td>국내산</td>\n",
       "    </tr>\n",
       "  </tbody>\n",
       "</table>\n",
       "</div>"
      ],
      "text/plain": [
       "    메뉴     가격  원산지\n",
       "0  비빔밥  10000  국내산"
      ]
     },
     "execution_count": 57,
     "metadata": {},
     "output_type": "execute_result"
    }
   ],
   "source": [
    "# 첫 번째 행(인덱스 0) 전체\n",
    "row0 = df.loc[:0]\n",
    "row0\n",
    "# 인덱스 0~1 범위(끝 포함)\n",
    "# rows_0_to_1 = df.loc[:1]\n",
    "# rows_0_to_1\n",
    "# 조건식: 가격이 9000 이상인 행\n",
    "# rows_price_ge_9000 = df.loc[df['가격'] >= 9000, ['메뉴', '가격']]\n",
    "# rows_price_ge_9000"
   ]
  },
  {
   "cell_type": "code",
   "execution_count": 54,
   "id": "f25816d0-04c7-443d-be03-4b906a5e0632",
   "metadata": {},
   "outputs": [
    {
     "data": {
      "text/html": [
       "<div>\n",
       "<style scoped>\n",
       "    .dataframe tbody tr th:only-of-type {\n",
       "        vertical-align: middle;\n",
       "    }\n",
       "\n",
       "    .dataframe tbody tr th {\n",
       "        vertical-align: top;\n",
       "    }\n",
       "\n",
       "    .dataframe thead th {\n",
       "        text-align: right;\n",
       "    }\n",
       "</style>\n",
       "<table border=\"1\" class=\"dataframe\">\n",
       "  <thead>\n",
       "    <tr style=\"text-align: right;\">\n",
       "      <th></th>\n",
       "      <th>메뉴</th>\n",
       "      <th>가격</th>\n",
       "      <th>원산지</th>\n",
       "    </tr>\n",
       "  </thead>\n",
       "  <tbody>\n",
       "    <tr>\n",
       "      <th>0</th>\n",
       "      <td>비빔밥</td>\n",
       "      <td>10000</td>\n",
       "      <td>국내산</td>\n",
       "    </tr>\n",
       "  </tbody>\n",
       "</table>\n",
       "</div>"
      ],
      "text/plain": [
       "    메뉴     가격  원산지\n",
       "0  비빔밥  10000  국내산"
      ]
     },
     "execution_count": 54,
     "metadata": {},
     "output_type": "execute_result"
    }
   ],
   "source": [
    "# 첫 번째 행(정수 위치 0)\n",
    "row0_iloc = df.iloc[:1]\n",
    "row0_iloc\n",
    "# 첫 2행(0,1)과 앞의 2개 컬럼(0,1)\n",
    "# sub_iloc = df.iloc[2:3, 1:2]\n",
    "# sub_iloc"
   ]
  },
  {
   "cell_type": "code",
   "execution_count": 59,
   "id": "893ff6b2-740f-4b14-9cd6-736200f3a070",
   "metadata": {},
   "outputs": [
    {
     "data": {
      "text/html": [
       "<div>\n",
       "<style scoped>\n",
       "    .dataframe tbody tr th:only-of-type {\n",
       "        vertical-align: middle;\n",
       "    }\n",
       "\n",
       "    .dataframe tbody tr th {\n",
       "        vertical-align: top;\n",
       "    }\n",
       "\n",
       "    .dataframe thead th {\n",
       "        text-align: right;\n",
       "    }\n",
       "</style>\n",
       "<table border=\"1\" class=\"dataframe\">\n",
       "  <thead>\n",
       "    <tr style=\"text-align: right;\">\n",
       "      <th></th>\n",
       "      <th>메뉴</th>\n",
       "      <th>가격</th>\n",
       "      <th>원산지</th>\n",
       "      <th>할인가</th>\n",
       "    </tr>\n",
       "  </thead>\n",
       "  <tbody>\n",
       "    <tr>\n",
       "      <th>0</th>\n",
       "      <td>비빔밥</td>\n",
       "      <td>10000</td>\n",
       "      <td>국내산</td>\n",
       "      <td>9000</td>\n",
       "    </tr>\n",
       "    <tr>\n",
       "      <th>1</th>\n",
       "      <td>김치찌개</td>\n",
       "      <td>9000</td>\n",
       "      <td>국내산</td>\n",
       "      <td>8100</td>\n",
       "    </tr>\n",
       "    <tr>\n",
       "      <th>2</th>\n",
       "      <td>된장찌개</td>\n",
       "      <td>8000</td>\n",
       "      <td>국내산</td>\n",
       "      <td>7200</td>\n",
       "    </tr>\n",
       "  </tbody>\n",
       "</table>\n",
       "</div>"
      ],
      "text/plain": [
       "     메뉴     가격  원산지   할인가\n",
       "0   비빔밥  10000  국내산  9000\n",
       "1  김치찌개   9000  국내산  8100\n",
       "2  된장찌개   8000  국내산  7200"
      ]
     },
     "execution_count": 59,
     "metadata": {},
     "output_type": "execute_result"
    }
   ],
   "source": [
    "# 예: 10% 할인 가격 컬럼 추가\n",
    "df['할인가'] = (df['가격'] * 0.9).astype(int)\n",
    "df"
   ]
  },
  {
   "cell_type": "code",
   "execution_count": 63,
   "id": "9b7d6bb2-d853-45ff-8d32-e03df29dda4f",
   "metadata": {},
   "outputs": [
    {
     "data": {
      "text/html": [
       "<div>\n",
       "<style scoped>\n",
       "    .dataframe tbody tr th:only-of-type {\n",
       "        vertical-align: middle;\n",
       "    }\n",
       "\n",
       "    .dataframe tbody tr th {\n",
       "        vertical-align: top;\n",
       "    }\n",
       "\n",
       "    .dataframe thead th {\n",
       "        text-align: right;\n",
       "    }\n",
       "</style>\n",
       "<table border=\"1\" class=\"dataframe\">\n",
       "  <thead>\n",
       "    <tr style=\"text-align: right;\">\n",
       "      <th></th>\n",
       "      <th>메뉴</th>\n",
       "      <th>가격</th>\n",
       "      <th>원산지</th>\n",
       "      <th>할인가</th>\n",
       "    </tr>\n",
       "  </thead>\n",
       "  <tbody>\n",
       "    <tr>\n",
       "      <th>0</th>\n",
       "      <td>비빔밥</td>\n",
       "      <td>10000</td>\n",
       "      <td>국내산</td>\n",
       "      <td>9000</td>\n",
       "    </tr>\n",
       "    <tr>\n",
       "      <th>1</th>\n",
       "      <td>김치찌개</td>\n",
       "      <td>9500</td>\n",
       "      <td>국내산</td>\n",
       "      <td>8100</td>\n",
       "    </tr>\n",
       "    <tr>\n",
       "      <th>2</th>\n",
       "      <td>된장찌개</td>\n",
       "      <td>8000</td>\n",
       "      <td>국내산</td>\n",
       "      <td>7200</td>\n",
       "    </tr>\n",
       "  </tbody>\n",
       "</table>\n",
       "</div>"
      ],
      "text/plain": [
       "     메뉴     가격  원산지   할인가\n",
       "0   비빔밥  10000  국내산  9000\n",
       "1  김치찌개   9500  국내산  8100\n",
       "2  된장찌개   8000  국내산  7200"
      ]
     },
     "execution_count": 63,
     "metadata": {},
     "output_type": "execute_result"
    }
   ],
   "source": [
    "# 예: '김치찌개' 가격 9500으로 변경\n",
    "df.loc[df['메뉴'] == '김치찌개', '가격'] = 9500\n",
    "df"
   ]
  },
  {
   "cell_type": "code",
   "execution_count": 64,
   "id": "25567a7e-78f9-4978-8ab5-fe96be35ba6f",
   "metadata": {},
   "outputs": [
    {
     "data": {
      "text/html": [
       "<div>\n",
       "<style scoped>\n",
       "    .dataframe tbody tr th:only-of-type {\n",
       "        vertical-align: middle;\n",
       "    }\n",
       "\n",
       "    .dataframe tbody tr th {\n",
       "        vertical-align: top;\n",
       "    }\n",
       "\n",
       "    .dataframe thead th {\n",
       "        text-align: right;\n",
       "    }\n",
       "</style>\n",
       "<table border=\"1\" class=\"dataframe\">\n",
       "  <thead>\n",
       "    <tr style=\"text-align: right;\">\n",
       "      <th></th>\n",
       "      <th>메뉴</th>\n",
       "      <th>가격</th>\n",
       "      <th>원산지</th>\n",
       "    </tr>\n",
       "  </thead>\n",
       "  <tbody>\n",
       "    <tr>\n",
       "      <th>0</th>\n",
       "      <td>비빔밥</td>\n",
       "      <td>10000</td>\n",
       "      <td>국내산</td>\n",
       "    </tr>\n",
       "    <tr>\n",
       "      <th>1</th>\n",
       "      <td>김치찌개</td>\n",
       "      <td>9500</td>\n",
       "      <td>국내산</td>\n",
       "    </tr>\n",
       "    <tr>\n",
       "      <th>2</th>\n",
       "      <td>된장찌개</td>\n",
       "      <td>8000</td>\n",
       "      <td>국내산</td>\n",
       "    </tr>\n",
       "  </tbody>\n",
       "</table>\n",
       "</div>"
      ],
      "text/plain": [
       "     메뉴     가격  원산지\n",
       "0   비빔밥  10000  국내산\n",
       "1  김치찌개   9500  국내산\n",
       "2  된장찌개   8000  국내산"
      ]
     },
     "execution_count": 64,
     "metadata": {},
     "output_type": "execute_result"
    }
   ],
   "source": [
    "# 예: '할인가' 컬럼 삭제\n",
    "# df.drop(columns=['할인가']) <-재정의 하지않으면 반영 안됨\n",
    "df = df.drop(columns=['할인가'])\n",
    "df"
   ]
  },
  {
   "cell_type": "code",
   "execution_count": 67,
   "id": "0239e93e-c6c3-4dd8-89cd-83aef2f02c51",
   "metadata": {},
   "outputs": [
    {
     "data": {
      "text/plain": [
       "0     사과\n",
       "1    바나나\n",
       "2     포도\n",
       "dtype: object"
      ]
     },
     "execution_count": 67,
     "metadata": {},
     "output_type": "execute_result"
    }
   ],
   "source": [
    "# 다음 과일 이름으로 pd.Series를 만들어 fruits 변수에 저장하시오: ['사과', '바나나', '포도']\n",
    "fruits = pd.Series(['사과', '바나나', '포도'])\n",
    "fruits"
   ]
  },
  {
   "cell_type": "code",
   "execution_count": 140,
   "id": "221c1174-2e41-4228-8662-00b7e1cccfd4",
   "metadata": {},
   "outputs": [
    {
     "data": {
      "text/html": [
       "<div>\n",
       "<style scoped>\n",
       "    .dataframe tbody tr th:only-of-type {\n",
       "        vertical-align: middle;\n",
       "    }\n",
       "\n",
       "    .dataframe tbody tr th {\n",
       "        vertical-align: top;\n",
       "    }\n",
       "\n",
       "    .dataframe thead th {\n",
       "        text-align: right;\n",
       "    }\n",
       "</style>\n",
       "<table border=\"1\" class=\"dataframe\">\n",
       "  <thead>\n",
       "    <tr style=\"text-align: right;\">\n",
       "      <th></th>\n",
       "      <th>상품</th>\n",
       "      <th>가격</th>\n",
       "      <th>재고</th>\n",
       "    </tr>\n",
       "  </thead>\n",
       "  <tbody>\n",
       "    <tr>\n",
       "      <th>0</th>\n",
       "      <td>키보드</td>\n",
       "      <td>30000</td>\n",
       "      <td>10</td>\n",
       "    </tr>\n",
       "    <tr>\n",
       "      <th>1</th>\n",
       "      <td>마우스</td>\n",
       "      <td>15000</td>\n",
       "      <td>25</td>\n",
       "    </tr>\n",
       "    <tr>\n",
       "      <th>2</th>\n",
       "      <td>모니터</td>\n",
       "      <td>200000</td>\n",
       "      <td>7</td>\n",
       "    </tr>\n",
       "  </tbody>\n",
       "</table>\n",
       "</div>"
      ],
      "text/plain": [
       "    상품      가격  재고\n",
       "0  키보드   30000  10\n",
       "1  마우스   15000  25\n",
       "2  모니터  200000   7"
      ]
     },
     "execution_count": 140,
     "metadata": {},
     "output_type": "execute_result"
    }
   ],
   "source": [
    "# 다음 데이터를 이용해 아래와 같은 컬럼을 가진 df를 생성하시오.\n",
    "\n",
    "# 컬럼: 상품, 가격, 재고\n",
    "# 데이터:\n",
    "# 상품: ['키보드', '마우스', '모니터']\n",
    "# 가격: [30000, 15000, 200000]\n",
    "# 재고: [10, 25, 7]\n",
    "df = pd.DataFrame({\n",
    "    '상품': ['키보드', '마우스', '모니터'],\n",
    "    '가격': [30000, 15000, 200000],\n",
    "    '재고': [10, 25, 7]\n",
    "})\n",
    "df"
   ]
  },
  {
   "cell_type": "code",
   "execution_count": 81,
   "id": "c274017f-83e5-4b39-b3d6-21af63a4b53d",
   "metadata": {},
   "outputs": [],
   "source": [
    "# 문제 3) 단일 컬럼 선택 (Series vs DataFrame)\n",
    "# 문제 2에서 만든 df로부터 상품 컬럼을 (1) Series로, (2) DataFrame으로 각각 선택해 prod_s, prod_df에 저장하시오.\n",
    "prod_s = df[:3]\n",
    "prod_df = df[['상품','가격','재고']]"
   ]
  },
  {
   "cell_type": "code",
   "execution_count": 82,
   "id": "55301211-2c60-4a74-b216-bddf7d6ab398",
   "metadata": {},
   "outputs": [
    {
     "data": {
      "text/html": [
       "<div>\n",
       "<style scoped>\n",
       "    .dataframe tbody tr th:only-of-type {\n",
       "        vertical-align: middle;\n",
       "    }\n",
       "\n",
       "    .dataframe tbody tr th {\n",
       "        vertical-align: top;\n",
       "    }\n",
       "\n",
       "    .dataframe thead th {\n",
       "        text-align: right;\n",
       "    }\n",
       "</style>\n",
       "<table border=\"1\" class=\"dataframe\">\n",
       "  <thead>\n",
       "    <tr style=\"text-align: right;\">\n",
       "      <th></th>\n",
       "      <th>상품</th>\n",
       "      <th>가격</th>\n",
       "    </tr>\n",
       "  </thead>\n",
       "  <tbody>\n",
       "    <tr>\n",
       "      <th>0</th>\n",
       "      <td>키보드</td>\n",
       "      <td>30000</td>\n",
       "    </tr>\n",
       "    <tr>\n",
       "      <th>1</th>\n",
       "      <td>마우스</td>\n",
       "      <td>15000</td>\n",
       "    </tr>\n",
       "    <tr>\n",
       "      <th>2</th>\n",
       "      <td>모니터</td>\n",
       "      <td>200000</td>\n",
       "    </tr>\n",
       "  </tbody>\n",
       "</table>\n",
       "</div>"
      ],
      "text/plain": [
       "    상품      가격\n",
       "0  키보드   30000\n",
       "1  마우스   15000\n",
       "2  모니터  200000"
      ]
     },
     "execution_count": 82,
     "metadata": {},
     "output_type": "execute_result"
    }
   ],
   "source": [
    "# 문제 4) 여러 컬럼 선택\n",
    "# 문제 2의 df에서 상품과 가격 컬럼만 선택하여 price_view 변수에 저장하시오.\n",
    "price_view = df[['상품','가격']]\n",
    "price_view"
   ]
  },
  {
   "cell_type": "code",
   "execution_count": 92,
   "id": "0762a08a-fa95-45c1-bd1b-b93d1f0b6651",
   "metadata": {},
   "outputs": [
    {
     "data": {
      "text/html": [
       "<div>\n",
       "<style scoped>\n",
       "    .dataframe tbody tr th:only-of-type {\n",
       "        vertical-align: middle;\n",
       "    }\n",
       "\n",
       "    .dataframe tbody tr th {\n",
       "        vertical-align: top;\n",
       "    }\n",
       "\n",
       "    .dataframe thead th {\n",
       "        text-align: right;\n",
       "    }\n",
       "</style>\n",
       "<table border=\"1\" class=\"dataframe\">\n",
       "  <thead>\n",
       "    <tr style=\"text-align: right;\">\n",
       "      <th></th>\n",
       "      <th>상품</th>\n",
       "      <th>가격</th>\n",
       "    </tr>\n",
       "  </thead>\n",
       "  <tbody>\n",
       "    <tr>\n",
       "      <th>0</th>\n",
       "      <td>키보드</td>\n",
       "      <td>30000</td>\n",
       "    </tr>\n",
       "    <tr>\n",
       "      <th>2</th>\n",
       "      <td>모니터</td>\n",
       "      <td>200000</td>\n",
       "    </tr>\n",
       "  </tbody>\n",
       "</table>\n",
       "</div>"
      ],
      "text/plain": [
       "    상품      가격\n",
       "0  키보드   30000\n",
       "2  모니터  200000"
      ]
     },
     "execution_count": 92,
     "metadata": {},
     "output_type": "execute_result"
    }
   ],
   "source": [
    "# 문제 2의 df에서 가격이 20000 이상인 행만 loc로 필터링하여 expensive에 저장하시오.\n",
    "# 단, 컬럼은 상품, 가격만 선택하시오.\n",
    "expensive = df.loc[df['가격']>=20000, ['상품','가격']]\n",
    "expensive"
   ]
  },
  {
   "cell_type": "code",
   "execution_count": 100,
   "id": "489f1ffd-bf66-45a5-88a3-8b439a4739b9",
   "metadata": {},
   "outputs": [
    {
     "data": {
      "text/html": [
       "<div>\n",
       "<style scoped>\n",
       "    .dataframe tbody tr th:only-of-type {\n",
       "        vertical-align: middle;\n",
       "    }\n",
       "\n",
       "    .dataframe tbody tr th {\n",
       "        vertical-align: top;\n",
       "    }\n",
       "\n",
       "    .dataframe thead th {\n",
       "        text-align: right;\n",
       "    }\n",
       "</style>\n",
       "<table border=\"1\" class=\"dataframe\">\n",
       "  <thead>\n",
       "    <tr style=\"text-align: right;\">\n",
       "      <th></th>\n",
       "      <th>상품</th>\n",
       "      <th>가격</th>\n",
       "      <th>재고</th>\n",
       "    </tr>\n",
       "  </thead>\n",
       "  <tbody>\n",
       "    <tr>\n",
       "      <th>0</th>\n",
       "      <td>키보드</td>\n",
       "      <td>30000</td>\n",
       "      <td>10</td>\n",
       "    </tr>\n",
       "    <tr>\n",
       "      <th>1</th>\n",
       "      <td>마우스</td>\n",
       "      <td>17000</td>\n",
       "      <td>25</td>\n",
       "    </tr>\n",
       "    <tr>\n",
       "      <th>2</th>\n",
       "      <td>모니터</td>\n",
       "      <td>200000</td>\n",
       "      <td>7</td>\n",
       "    </tr>\n",
       "  </tbody>\n",
       "</table>\n",
       "</div>"
      ],
      "text/plain": [
       "    상품      가격  재고\n",
       "0  키보드   30000  10\n",
       "1  마우스   17000  25\n",
       "2  모니터  200000   7"
      ]
     },
     "execution_count": 100,
     "metadata": {},
     "output_type": "execute_result"
    }
   ],
   "source": [
    "# 문제 2의 df에서 상품이 '마우스'인 행의 가격을 17000으로 수정하시오.\n",
    "df.loc[df['상품'] == '마우스', '가격'] = 17000\n",
    "df"
   ]
  },
  {
   "cell_type": "code",
   "execution_count": 109,
   "id": "33ab31f4-ec5a-4331-ad84-3bd9872a1d7e",
   "metadata": {},
   "outputs": [
    {
     "data": {
      "text/html": [
       "<div>\n",
       "<style scoped>\n",
       "    .dataframe tbody tr th:only-of-type {\n",
       "        vertical-align: middle;\n",
       "    }\n",
       "\n",
       "    .dataframe tbody tr th {\n",
       "        vertical-align: top;\n",
       "    }\n",
       "\n",
       "    .dataframe thead th {\n",
       "        text-align: right;\n",
       "    }\n",
       "</style>\n",
       "<table border=\"1\" class=\"dataframe\">\n",
       "  <thead>\n",
       "    <tr style=\"text-align: right;\">\n",
       "      <th></th>\n",
       "      <th>상품</th>\n",
       "      <th>가격</th>\n",
       "    </tr>\n",
       "  </thead>\n",
       "  <tbody>\n",
       "    <tr>\n",
       "      <th>0</th>\n",
       "      <td>키보드</td>\n",
       "      <td>30000</td>\n",
       "    </tr>\n",
       "    <tr>\n",
       "      <th>1</th>\n",
       "      <td>마우스</td>\n",
       "      <td>15000</td>\n",
       "    </tr>\n",
       "  </tbody>\n",
       "</table>\n",
       "</div>"
      ],
      "text/plain": [
       "    상품     가격\n",
       "0  키보드  30000\n",
       "1  마우스  15000"
      ]
     },
     "execution_count": 109,
     "metadata": {},
     "output_type": "execute_result"
    }
   ],
   "source": [
    "# 문제 2의 df에서 첫 2행과 앞의 2개 컬럼만 iloc으로 선택해 sub_iloc에 저장하시오.\n",
    "sub_iloc = df.iloc[:2, :2]\n",
    "sub_iloc"
   ]
  },
  {
   "cell_type": "code",
   "execution_count": 139,
   "id": "7d392533-f952-4118-bc88-e46941d193b8",
   "metadata": {},
   "outputs": [
    {
     "data": {
      "text/html": [
       "<div>\n",
       "<style scoped>\n",
       "    .dataframe tbody tr th:only-of-type {\n",
       "        vertical-align: middle;\n",
       "    }\n",
       "\n",
       "    .dataframe tbody tr th {\n",
       "        vertical-align: top;\n",
       "    }\n",
       "\n",
       "    .dataframe thead th {\n",
       "        text-align: right;\n",
       "    }\n",
       "</style>\n",
       "<table border=\"1\" class=\"dataframe\">\n",
       "  <thead>\n",
       "    <tr style=\"text-align: right;\">\n",
       "      <th></th>\n",
       "      <th>상품</th>\n",
       "      <th>가격</th>\n",
       "      <th>재고</th>\n",
       "      <th>부가세포함가</th>\n",
       "    </tr>\n",
       "  </thead>\n",
       "  <tbody>\n",
       "    <tr>\n",
       "      <th>0</th>\n",
       "      <td>키보드</td>\n",
       "      <td>30000</td>\n",
       "      <td>10</td>\n",
       "      <td>33000</td>\n",
       "    </tr>\n",
       "    <tr>\n",
       "      <th>1</th>\n",
       "      <td>마우스</td>\n",
       "      <td>15000</td>\n",
       "      <td>25</td>\n",
       "      <td>16500</td>\n",
       "    </tr>\n",
       "    <tr>\n",
       "      <th>2</th>\n",
       "      <td>모니터</td>\n",
       "      <td>200000</td>\n",
       "      <td>7</td>\n",
       "      <td>220000</td>\n",
       "    </tr>\n",
       "  </tbody>\n",
       "</table>\n",
       "</div>"
      ],
      "text/plain": [
       "    상품      가격  재고  부가세포함가\n",
       "0  키보드   30000  10   33000\n",
       "1  마우스   15000  25   16500\n",
       "2  모니터  200000   7  220000"
      ]
     },
     "execution_count": 139,
     "metadata": {},
     "output_type": "execute_result"
    }
   ],
   "source": [
    "# 문제 2의 df에 **부가세 포함 가격(10% 가산)**을 정수형으로 계산하여 부가세포함가 컬럼으로 추가하시오.\n",
    "df['부가세포함가'] = (df['가격']*1.1).astype(int)\n",
    "df"
   ]
  },
  {
   "cell_type": "code",
   "execution_count": 119,
   "id": "1fe20d3f-a939-4579-abab-68156478cd66",
   "metadata": {},
   "outputs": [
    {
     "data": {
      "text/html": [
       "<div>\n",
       "<style scoped>\n",
       "    .dataframe tbody tr th:only-of-type {\n",
       "        vertical-align: middle;\n",
       "    }\n",
       "\n",
       "    .dataframe tbody tr th {\n",
       "        vertical-align: top;\n",
       "    }\n",
       "\n",
       "    .dataframe thead th {\n",
       "        text-align: right;\n",
       "    }\n",
       "</style>\n",
       "<table border=\"1\" class=\"dataframe\">\n",
       "  <thead>\n",
       "    <tr style=\"text-align: right;\">\n",
       "      <th></th>\n",
       "      <th>상품</th>\n",
       "      <th>가격</th>\n",
       "      <th>재고</th>\n",
       "    </tr>\n",
       "  </thead>\n",
       "  <tbody>\n",
       "    <tr>\n",
       "      <th>2</th>\n",
       "      <td>모니터</td>\n",
       "      <td>200000</td>\n",
       "      <td>7</td>\n",
       "    </tr>\n",
       "    <tr>\n",
       "      <th>0</th>\n",
       "      <td>키보드</td>\n",
       "      <td>30000</td>\n",
       "      <td>10</td>\n",
       "    </tr>\n",
       "    <tr>\n",
       "      <th>1</th>\n",
       "      <td>마우스</td>\n",
       "      <td>15000</td>\n",
       "      <td>25</td>\n",
       "    </tr>\n",
       "  </tbody>\n",
       "</table>\n",
       "</div>"
      ],
      "text/plain": [
       "    상품      가격  재고\n",
       "2  모니터  200000   7\n",
       "0  키보드   30000  10\n",
       "1  마우스   15000  25"
      ]
     },
     "execution_count": 119,
     "metadata": {},
     "output_type": "execute_result"
    }
   ],
   "source": [
    "# 문제 2의 df를 가격 기준 내림차순으로 정렬한 결과를 df_sorted에 저장하시오.\n",
    "df_sorted = df.sort_values(by='가격',ascending=False)\n",
    "df_sorted"
   ]
  },
  {
   "cell_type": "code",
   "execution_count": 137,
   "id": "8c183087-5020-42e7-80b6-6ad0e109ac23",
   "metadata": {},
   "outputs": [
    {
     "data": {
      "text/html": [
       "<div>\n",
       "<style scoped>\n",
       "    .dataframe tbody tr th:only-of-type {\n",
       "        vertical-align: middle;\n",
       "    }\n",
       "\n",
       "    .dataframe tbody tr th {\n",
       "        vertical-align: top;\n",
       "    }\n",
       "\n",
       "    .dataframe thead th {\n",
       "        text-align: right;\n",
       "    }\n",
       "</style>\n",
       "<table border=\"1\" class=\"dataframe\">\n",
       "  <thead>\n",
       "    <tr style=\"text-align: right;\">\n",
       "      <th></th>\n",
       "      <th>product</th>\n",
       "      <th>price</th>\n",
       "      <th>stock</th>\n",
       "    </tr>\n",
       "  </thead>\n",
       "  <tbody>\n",
       "    <tr>\n",
       "      <th>0</th>\n",
       "      <td>키보드</td>\n",
       "      <td>30000</td>\n",
       "      <td>10</td>\n",
       "    </tr>\n",
       "    <tr>\n",
       "      <th>1</th>\n",
       "      <td>마우스</td>\n",
       "      <td>15000</td>\n",
       "      <td>25</td>\n",
       "    </tr>\n",
       "    <tr>\n",
       "      <th>2</th>\n",
       "      <td>모니터</td>\n",
       "      <td>200000</td>\n",
       "      <td>7</td>\n",
       "    </tr>\n",
       "  </tbody>\n",
       "</table>\n",
       "</div>"
      ],
      "text/plain": [
       "  product   price  stock\n",
       "0     키보드   30000     10\n",
       "1     마우스   15000     25\n",
       "2     모니터  200000      7"
      ]
     },
     "execution_count": 137,
     "metadata": {},
     "output_type": "execute_result"
    }
   ],
   "source": [
    "# 문제 2의 df에서 컬럼명을 다음과 같이 변경한 새로운 DataFrame df_en을 생성하시오.\n",
    "# 상품 → product\n",
    "# 가격 → price\n",
    "# 재고 → stock\n",
    "df_en = df.rename(columns={'상품':'product','가격':'price','재고':'stock'})\n",
    "df_en"
   ]
  },
  {
   "cell_type": "code",
   "execution_count": null,
   "id": "2d46f245-9750-43cd-8de8-f637d81c8701",
   "metadata": {},
   "outputs": [],
   "source": [
    "# 아래와 같이 인덱스 라벨이 0, 1, 2, 3인 df2가 있다고 할 때,\n",
    "# loc로 0부터 2까지 행을 선택하여 part_loc에 저장하시오. (loc는 끝 포함 규칙을 사용함)\n"
   ]
  }
 ],
 "metadata": {
  "kernelspec": {
   "display_name": "Python 3 (ipykernel)",
   "language": "python",
   "name": "python3"
  },
  "language_info": {
   "codemirror_mode": {
    "name": "ipython",
    "version": 3
   },
   "file_extension": ".py",
   "mimetype": "text/x-python",
   "name": "python",
   "nbconvert_exporter": "python",
   "pygments_lexer": "ipython3",
   "version": "3.11.6"
  }
 },
 "nbformat": 4,
 "nbformat_minor": 5
}
